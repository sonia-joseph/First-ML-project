{
 "cells": [
  {
   "cell_type": "markdown",
   "metadata": {},
   "source": [
    "# Machine Learning Model: Smart or Ultra?\n",
    "\n",
    "The telecommunication company has introduced two new plans in the market: Smart and Ultra. The plans have different structures for monthly call, message and data limits that appeal to different customer bases.\n",
    "In this project we will attempt to use the principles of supervised machine learning to recommend the right plan for customers based on customer behavior.\n",
    "\n",
    "To train our model, we have data from existing customers who have switched to the new plans. \n",
    "For this project it is important that the model selected has the highest possible accuracy. The threshold for accuracy is 0.75 in this case.\n",
    "The accuracy is defined as the ratio of the number of correct answers to the size of the test set.\n",
    "The project will proceed in three stages.\n",
    "\n",
    "1. Since the data has been pre-processed, we will proceed directly to creating the model. To do this, we will split the data into training, validation and test sets. Since all three will need to be derived from the original data set (there is no separate test set available). we will split in a 3:1:1 ratio. This allows for the model to train on the bulk of the data (the more data it trains on the better the model), while still having enough set aside for validation and testing.\n",
    "\n",
    "2. Next we will check for the quality of the model using the accuracy score.\n",
    "\n",
    "3. Finally we will perform a sanity test."
   ]
  },
  {
   "cell_type": "markdown",
   "metadata": {},
   "source": [
    "## Loading and inspecting the data"
   ]
  },
  {
   "cell_type": "code",
   "execution_count": 27,
   "metadata": {},
   "outputs": [],
   "source": [
    "#importing required libraries\n",
    "import pandas as pd\n",
    "import numpy as np\n",
    "from scipy import stats as st\n",
    "from scipy.stats import randint\n",
    "import seaborn as sns\n",
    "from matplotlib import pyplot as plt\n",
    "import plotly as py\n",
    "import plotly.express as px\n",
    "from sklearn.tree import DecisionTreeClassifier\n",
    "from sklearn.ensemble import RandomForestClassifier\n",
    "from sklearn.linear_model import LogisticRegression\n",
    "from sklearn.metrics import accuracy_score\n",
    "from sklearn.model_selection import train_test_split\n",
    "from sklearn.model_selection import RandomizedSearchCV"
   ]
  },
  {
   "cell_type": "code",
   "execution_count": 28,
   "metadata": {},
   "outputs": [
    {
     "name": "stdout",
     "output_type": "stream",
     "text": [
      "<class 'pandas.core.frame.DataFrame'>\n",
      "RangeIndex: 3214 entries, 0 to 3213\n",
      "Data columns (total 5 columns):\n",
      " #   Column    Non-Null Count  Dtype  \n",
      "---  ------    --------------  -----  \n",
      " 0   calls     3214 non-null   float64\n",
      " 1   minutes   3214 non-null   float64\n",
      " 2   messages  3214 non-null   float64\n",
      " 3   mb_used   3214 non-null   float64\n",
      " 4   is_ultra  3214 non-null   int64  \n",
      "dtypes: float64(4), int64(1)\n",
      "memory usage: 125.7 KB\n",
      "(3214, 5)\n"
     ]
    },
    {
     "data": {
      "text/html": [
       "<div>\n",
       "<style scoped>\n",
       "    .dataframe tbody tr th:only-of-type {\n",
       "        vertical-align: middle;\n",
       "    }\n",
       "\n",
       "    .dataframe tbody tr th {\n",
       "        vertical-align: top;\n",
       "    }\n",
       "\n",
       "    .dataframe thead th {\n",
       "        text-align: right;\n",
       "    }\n",
       "</style>\n",
       "<table border=\"1\" class=\"dataframe\">\n",
       "  <thead>\n",
       "    <tr style=\"text-align: right;\">\n",
       "      <th></th>\n",
       "      <th>calls</th>\n",
       "      <th>minutes</th>\n",
       "      <th>messages</th>\n",
       "      <th>mb_used</th>\n",
       "      <th>is_ultra</th>\n",
       "    </tr>\n",
       "  </thead>\n",
       "  <tbody>\n",
       "    <tr>\n",
       "      <th>0</th>\n",
       "      <td>40.0</td>\n",
       "      <td>311.90</td>\n",
       "      <td>83.0</td>\n",
       "      <td>19915.42</td>\n",
       "      <td>0</td>\n",
       "    </tr>\n",
       "    <tr>\n",
       "      <th>1</th>\n",
       "      <td>85.0</td>\n",
       "      <td>516.75</td>\n",
       "      <td>56.0</td>\n",
       "      <td>22696.96</td>\n",
       "      <td>0</td>\n",
       "    </tr>\n",
       "    <tr>\n",
       "      <th>2</th>\n",
       "      <td>77.0</td>\n",
       "      <td>467.66</td>\n",
       "      <td>86.0</td>\n",
       "      <td>21060.45</td>\n",
       "      <td>0</td>\n",
       "    </tr>\n",
       "    <tr>\n",
       "      <th>3</th>\n",
       "      <td>106.0</td>\n",
       "      <td>745.53</td>\n",
       "      <td>81.0</td>\n",
       "      <td>8437.39</td>\n",
       "      <td>1</td>\n",
       "    </tr>\n",
       "    <tr>\n",
       "      <th>4</th>\n",
       "      <td>66.0</td>\n",
       "      <td>418.74</td>\n",
       "      <td>1.0</td>\n",
       "      <td>14502.75</td>\n",
       "      <td>0</td>\n",
       "    </tr>\n",
       "    <tr>\n",
       "      <th>5</th>\n",
       "      <td>58.0</td>\n",
       "      <td>344.56</td>\n",
       "      <td>21.0</td>\n",
       "      <td>15823.37</td>\n",
       "      <td>0</td>\n",
       "    </tr>\n",
       "    <tr>\n",
       "      <th>6</th>\n",
       "      <td>57.0</td>\n",
       "      <td>431.64</td>\n",
       "      <td>20.0</td>\n",
       "      <td>3738.90</td>\n",
       "      <td>1</td>\n",
       "    </tr>\n",
       "    <tr>\n",
       "      <th>7</th>\n",
       "      <td>15.0</td>\n",
       "      <td>132.40</td>\n",
       "      <td>6.0</td>\n",
       "      <td>21911.60</td>\n",
       "      <td>0</td>\n",
       "    </tr>\n",
       "    <tr>\n",
       "      <th>8</th>\n",
       "      <td>7.0</td>\n",
       "      <td>43.39</td>\n",
       "      <td>3.0</td>\n",
       "      <td>2538.67</td>\n",
       "      <td>1</td>\n",
       "    </tr>\n",
       "    <tr>\n",
       "      <th>9</th>\n",
       "      <td>90.0</td>\n",
       "      <td>665.41</td>\n",
       "      <td>38.0</td>\n",
       "      <td>17358.61</td>\n",
       "      <td>0</td>\n",
       "    </tr>\n",
       "  </tbody>\n",
       "</table>\n",
       "</div>"
      ],
      "text/plain": [
       "   calls  minutes  messages   mb_used  is_ultra\n",
       "0   40.0   311.90      83.0  19915.42         0\n",
       "1   85.0   516.75      56.0  22696.96         0\n",
       "2   77.0   467.66      86.0  21060.45         0\n",
       "3  106.0   745.53      81.0   8437.39         1\n",
       "4   66.0   418.74       1.0  14502.75         0\n",
       "5   58.0   344.56      21.0  15823.37         0\n",
       "6   57.0   431.64      20.0   3738.90         1\n",
       "7   15.0   132.40       6.0  21911.60         0\n",
       "8    7.0    43.39       3.0   2538.67         1\n",
       "9   90.0   665.41      38.0  17358.61         0"
      ]
     },
     "execution_count": 28,
     "metadata": {},
     "output_type": "execute_result"
    }
   ],
   "source": [
    "#load data and inspect it\n",
    "df = pd.read_csv('/datasets/users_behavior.csv')\n",
    "df.info()\n",
    "print(df.shape)\n",
    "df.head(10)"
   ]
  },
  {
   "cell_type": "code",
   "execution_count": 29,
   "metadata": {},
   "outputs": [
    {
     "data": {
      "image/png": "[encoded data removed]",
      "text/plain": [
       "<Figure size 640x480 with 1 Axes>"
      ]
     },
     "metadata": {},
     "output_type": "display_data"
    }
   ],
   "source": [
    "#looking at number of users per plan\n",
    "plans = sns.countplot(x='is_ultra', data=df)\n",
    "plans.set_title('Customer Counts for Surf and Ultra')\n",
    "plt.show()"
   ]
  },
  {
   "cell_type": "markdown",
   "metadata": {},
   "source": [
    "Here we see that nearly twice the number of customers have Smart (x-axis=0) as their plan as those who do Ultra. Is there a reason why this plan is seen as more attractive? Later when we set up our models, it would be ideal to have an equal number of customers with surf and ultra as a starting point to avoid over sampling of the more popular plan which can introduce bias in the model. Predicting the more popular plan can become a strategy that the model employs because in the provided data set it will lead to overall more accurate results even though it will be wrong half the time for the less popular plan(class).\n",
    "\n",
    "It is possible to account for this using the class weights parameter."
   ]
  },
  {
   "cell_type": "code",
   "execution_count": 30,
   "metadata": {},
   "outputs": [
    {
     "name": "stdout",
     "output_type": "stream",
     "text": [
      "<class 'pandas.core.frame.DataFrame'>\n",
      "Int64Index: 992 entries, 94 to 2783\n",
      "Data columns (total 5 columns):\n",
      " #   Column    Non-Null Count  Dtype  \n",
      "---  ------    --------------  -----  \n",
      " 0   calls     992 non-null    float64\n",
      " 1   minutes   992 non-null    float64\n",
      " 2   messages  992 non-null    float64\n",
      " 3   mb_used   992 non-null    float64\n",
      " 4   is_ultra  992 non-null    int64  \n",
      "dtypes: float64(4), int64(1)\n",
      "memory usage: 46.5 KB\n",
      "<class 'pandas.core.frame.DataFrame'>\n",
      "Int64Index: 985 entries, 3 to 3213\n",
      "Data columns (total 5 columns):\n",
      " #   Column    Non-Null Count  Dtype  \n",
      "---  ------    --------------  -----  \n",
      " 0   calls     985 non-null    float64\n",
      " 1   minutes   985 non-null    float64\n",
      " 2   messages  985 non-null    float64\n",
      " 3   mb_used   985 non-null    float64\n",
      " 4   is_ultra  985 non-null    int64  \n",
      "dtypes: float64(4), int64(1)\n",
      "memory usage: 46.2 KB\n"
     ]
    },
    {
     "data": {
      "image/png": "[encoded data removed]",
      "text/plain": [
       "<Figure size 640x480 with 2 Axes>"
      ]
     },
     "metadata": {},
     "output_type": "display_data"
    }
   ],
   "source": [
    "#generating a new data set with almost euqal number of users of each plan to generate a correlation heatmap\n",
    "#dataset of only surf users\n",
    "df_surf = df[df['is_ultra']==0]\n",
    "#randomly selected surf users that are almost equal in number to ultra users in the original data set\n",
    "surf50_df = df_surf.sample(frac=0.445, random_state=42)\n",
    "#dataset of only ultra users\n",
    "df_ultra = df[df['is_ultra']==1]\n",
    "surf50_df.info()\n",
    "df_ultra.info()\n",
    "#combined dataset\n",
    "df_combined = pd.concat([surf50_df, df_ultra], ignore_index=True)\n",
    "df_combined.sample(20)\n",
    "#heatmap of the combined data set\n",
    "sns.heatmap(df_combined.corr(), annot=True, cmap='coolwarm')\n",
    "plt.show()"
   ]
  },
  {
   "cell_type": "markdown",
   "metadata": {},
   "source": [
    "To generate the heatmap, we generated a new dataset with an almost equal representation of Surf and Ultra users to make sure that spurious correlations do not show up because of the significantly higher representation of surf users in the data. \n",
    "\n",
    "The more calls a user makes, the more minutes they tally up, which is expected. Any other correlations are very weak and we cannot make any definitive conclusions based on the data that is available."
   ]
  },
  {
   "cell_type": "code",
   "execution_count": 31,
   "metadata": {},
   "outputs": [
    {
     "data": {
      "image/png": "[encoded data removed]",
      "text/plain": [
       "<Figure size 640x480 with 1 Axes>"
      ]
     },
     "metadata": {},
     "output_type": "display_data"
    },
    {
     "data": {
      "image/png": "[encoded data removed]",
      "text/plain": [
       "<Figure size 640x480 with 1 Axes>"
      ]
     },
     "metadata": {},
     "output_type": "display_data"
    },
    {
     "data": {
      "image/png": "[encoded data removed]",
      "text/plain": [
       "<Figure size 640x480 with 1 Axes>"
      ]
     },
     "metadata": {},
     "output_type": "display_data"
    },
    {
     "data": {
      "image/png": "[encoded data removed]",
      "text/plain": [
       "<Figure size 640x480 with 1 Axes>"
      ]
     },
     "metadata": {},
     "output_type": "display_data"
    },
    {
     "name": "stdout",
     "output_type": "stream",
     "text": [
      "<class 'pandas.core.frame.DataFrame'>\n",
      "RangeIndex: 3214 entries, 0 to 3213\n",
      "Data columns (total 5 columns):\n",
      " #   Column    Non-Null Count  Dtype  \n",
      "---  ------    --------------  -----  \n",
      " 0   calls     3214 non-null   float64\n",
      " 1   minutes   3214 non-null   float64\n",
      " 2   messages  3214 non-null   float64\n",
      " 3   mb_used   3214 non-null   float64\n",
      " 4   is_ultra  3214 non-null   int64  \n",
      "dtypes: float64(4), int64(1)\n",
      "memory usage: 125.7 KB\n"
     ]
    }
   ],
   "source": [
    "#histograms of use grouped by plam\n",
    "#call duration\n",
    "sns.histplot(data=df, x='minutes', hue='is_ultra', kde=True, element='step')\n",
    "plt.title('Call Duration by Plan Type')\n",
    "plt.show()\n",
    "#messages\n",
    "sns.histplot(data=df, x='messages', hue='is_ultra', kde=True, element='step')\n",
    "plt.title('Messages by Plan Type')\n",
    "plt.show()\n",
    "#data\n",
    "sns.histplot(data=df, x='mb_used', hue='is_ultra', kde=True, element='step')\n",
    "plt.title('Data Used by Plan Type')\n",
    "plt.show()\n",
    "df2 = df\n",
    "df2['gb_used'] = df2['mb_used']/1000\n",
    "df2['hours'] = df2['minutes']/60\n",
    "df2 = df2.drop(['mb_used','minutes'], axis=1)\n",
    "#average use by plan\n",
    "avg_usage = df2.groupby('is_ultra')[['calls','hours','messages','gb_used']].mean()\n",
    "\n",
    "avg_usage.plot(kind='bar')\n",
    "plt.title('Average Usage by Plan Type')\n",
    "plt.ylabel('Usage')\n",
    "plt.xticks(rotation=0)\n",
    "plt.show()\n",
    "df = df.drop(['gb_used','hours'], axis=1)\n",
    "df.info()"
   ]
  },
  {
   "cell_type": "markdown",
   "metadata": {},
   "source": [
    "Ultra users are high volume users on average, logging more calls, sending more messages and using more data on average. This may be useful to understand future customers who will gravitate towards this plan."
   ]
  },
  {
   "cell_type": "markdown",
   "metadata": {},
   "source": [
    "# Testing Models\n",
    "\n",
    "At this stage in the project we will proceed with splitting the data into training, validation and test data sets which will then be tested to see which one has the greatest accuracy when it comes to assigning users based on behavior into the categories Surf or Ultra.\n",
    "\n",
    "We will use the Decision Tree Model, Random Forrest Classifier and the Logistic Regression Model.\n",
    "We will adjust the hyper parameters and check for accuracy.\n",
    "\n",
    "The model with the best accuracy will then proceed to sanity check to see if it does better than random chance. If not we will need to train further in an iterative process."
   ]
  },
  {
   "cell_type": "code",
   "execution_count": 32,
   "metadata": {},
   "outputs": [],
   "source": [
    "#split original data into train, validation and test data sets using the 3:1:1 distribution typically suggested in these cases\n",
    "#two rounds of splitting are required in this case\n",
    "df_main, df_test = train_test_split(df, test_size=0.20, random_state=54321)\n",
    "df_train, df_valid = train_test_split(df_main, test_size=0.20, random_state=54321)\n",
    "\n",
    "#separating features and target in each set\n",
    "features_train = df_train.drop(['is_ultra'], axis=1)\n",
    "target_train = df_train['is_ultra']\n",
    "features_valid = df_valid.drop(['is_ultra'], axis=1)\n",
    "target_valid = df_valid['is_ultra']\n",
    "features_test = df_test.drop(['is_ultra'], axis=1)\n",
    "target_test = df_test['is_ultra']"
   ]
  },
  {
   "cell_type": "code",
   "execution_count": 33,
   "metadata": {},
   "outputs": [
    {
     "name": "stdout",
     "output_type": "stream",
     "text": [
      "max_depth = 1 : 0.765: train set score : 0.758\n",
      "max_depth = 2 : 0.784: train set score : 0.789\n",
      "max_depth = 3 : 0.8: train set score : 0.804\n",
      "max_depth = 4 : 0.806: train set score : 0.817\n",
      "max_depth = 5 : 0.798: train set score : 0.823\n"
     ]
    }
   ],
   "source": [
    "#Decision Tree Model 1\n",
    "# create a loop for max_depth from 1 to 5\n",
    "for depth in range(1, 6):\n",
    "    model1 = DecisionTreeClassifier(random_state=54321, max_depth=depth)# assign depth based on loop parameters\n",
    "    model1.fit(features_train,target_train) #fit test set\n",
    "    prediction1 = model1.predict(features_valid) #predict target for validation set\n",
    "    prediction_tr1 = model1.predict(features_train)#predict target for training set\n",
    "    result1 = accuracy_score(target_valid, prediction1) #calculate the accuracy on validation set\n",
    "    result_tr1 = accuracy_score(target_train, prediction_tr1) #calculate the accuracy on training set\n",
    "    print(f'max_depth = {depth} : {result1:0.3}: train set score : {result_tr1:0.3}')"
   ]
  },
  {
   "cell_type": "markdown",
   "metadata": {},
   "source": [
    "In the case of the decision tree model we see a gradual increase in efficiency with increase in depth which maxes out at a depth of 4 after which the accuracy starts to drop. The maximum accuracy achieved is 0.806 which crosses the set threshold of 0.75. There does not appear to be a lot of overfitting at this depth since we do not see a huge difference in accuracy between training and validation sets. After a depth of 4 the risk of overfitting seems to increase as well."
   ]
  },
  {
   "cell_type": "code",
   "execution_count": 34,
   "metadata": {},
   "outputs": [
    {
     "name": "stdout",
     "output_type": "stream",
     "text": [
      "max_depth = 1 : 0.765: train set score : 0.823\n",
      "max_depth = 2 : 0.784: train set score : 0.823\n",
      "max_depth = 3 : 0.8: train set score : 0.823\n",
      "max_depth = 4 : 0.775: train set score : 0.823\n",
      "max_depth = 5 : 0.812: train set score : 0.823\n"
     ]
    }
   ],
   "source": [
    "#Decision Tree Model 2 with balanced class weight\n",
    "# create a loop for max_depth from 1 to 5\n",
    "for depth in range(1, 6):\n",
    "    model1b = DecisionTreeClassifier(random_state=54321, max_depth=depth, class_weight='balanced')# assign depth based on loop parameters\n",
    "    model1b.fit(features_train,target_train) #fit test set\n",
    "    prediction1b = model1b.predict(features_valid) #predict target for validation set\n",
    "    prediction_tr1b = model1b.predict(features_train)#predict target for training set\n",
    "    result1b = accuracy_score(target_valid, prediction1b) #calculate the accuracy for validation set\n",
    "    result_tr1b = accuracy_score(target_train, prediction_tr1b) #calculate the accuracy on training set\n",
    "    print(f'max_depth = {depth} : {result1b:0.3}: train set score : {result_tr1:0.3}')"
   ]
  },
  {
   "cell_type": "markdown",
   "metadata": {},
   "source": [
    "Here we see the best accuracy at a depth of 3 after which it drops and then goes up again at depth 5. Since the train set score is higher at all depths and this effect only seems to diminish at depth 5, a decision tree with depth 5 appears to be the best model without overfitting data. This model also takes into account the significant difference in the number of surf and ultra users represented in the data by adjusting the hyper paramater class weight."
   ]
  },
  {
   "cell_type": "code",
   "execution_count": 35,
   "metadata": {},
   "outputs": [
    {
     "name": "stdout",
     "output_type": "stream",
     "text": [
      "Accuracy of the best model on the validation set (n_estimators = 10):(depth:10): 0.8330097087378641:(train_accu = 0.8827821011673151)\n"
     ]
    }
   ],
   "source": [
    "#Random Forest Model 2\n",
    "best_score = 0\n",
    "best_est = 0\n",
    "best_depth = 0\n",
    "train_score = 0\n",
    "for est in range(1, 51):\n",
    "    for depth in range(1,21):# choose hyperparameter range\n",
    "        model2 = RandomForestClassifier(random_state=54321, n_estimators=est, max_depth=depth) # set number of trees and depth\n",
    "        model2.fit(features_train,target_train)# train model on training set\n",
    "        predict2 = model2.predict(features_valid) #predict target for validation set\n",
    "        predict_tr2 = model2.predict(features_train)#predict target for training set\n",
    "        score2 = accuracy_score(target_valid, predict2)# calculate accuracy score on validation set\n",
    "        score2_tr = accuracy_score(target_train, predict_tr2)# calculate accuracy score on test set\n",
    "        if score2 > best_score:\n",
    "            best_score = score2 # save best accuracy score on validation set\n",
    "            best_est = est\n",
    "            best_depth = depth # save number of estimators corresponding to best accuracy score\n",
    "            train_score = score2_tr\n",
    "\n",
    "print(\"Accuracy of the best model on the validation set (n_estimators = {}):(depth:{}): {}:(train_accu = {})\".format(best_est, best_depth, best_score, train_score))"
   ]
  },
  {
   "cell_type": "code",
   "execution_count": 36,
   "metadata": {},
   "outputs": [
    {
     "name": "stdout",
     "output_type": "stream",
     "text": [
      "Accuracy of the best model on the validation set (n_estimators = 29):(depth:10): 0.8330097087378641:(train_accu = 0.9119649805447471)\n"
     ]
    }
   ],
   "source": [
    "#Random Forest Model 2 with balance\n",
    "best_score_b = 0\n",
    "best_est_b = 0\n",
    "best_depth_b = 0\n",
    "train_score_b = 0\n",
    "for est in range(1, 51):\n",
    "    for depth in range(1,21):# choose hyperparameter range\n",
    "        model2b = RandomForestClassifier(random_state=54321, n_estimators=est, max_depth=depth, class_weight='balanced') # set number of trees and depth\n",
    "        model2b.fit(features_train,target_train)# train model on training set\n",
    "        predict2b = model2b.predict(features_valid) #predict target for validation set\n",
    "        predict_tr2b = model2b.predict(features_train)#predict target for training set\n",
    "        score2b = accuracy_score(target_valid, predict2b)# calculate accuracy score on validation set\n",
    "        score2b_tr = accuracy_score(target_train, predict_tr2b)# calculate accuracy score on test set\n",
    "        if score2b > best_score_b:\n",
    "            best_score_b = score2b # save best accuracy score on validation set\n",
    "            best_est_b = est\n",
    "            best_depth_b = depth # save number of estimators corresponding to best accuracy score\n",
    "            train_score_b = score2b_tr\n",
    "\n",
    "print(\"Accuracy of the best model on the validation set (n_estimators = {}):(depth:{}): {}:(train_accu = {})\".format(best_est_b, best_depth_b, best_score_b, train_score_b))"
   ]
  },
  {
   "cell_type": "markdown",
   "metadata": {},
   "source": [
    "The Random Forest classifier has better accuracy and this remains when we add the class_weight parameter. The training set seems to have a better accuracy score compared to validation but since this is Random Forrest, the chances of overfitting are low. We can inspect this further later when we look at all the models. For now 29 trees with a depth of 10 appears the best model."
   ]
  },
  {
   "cell_type": "code",
   "execution_count": 37,
   "metadata": {},
   "outputs": [
    {
     "name": "stdout",
     "output_type": "stream",
     "text": [
      "Accuracy of the logistic regression model on the training set: 0.7217898832684825\n",
      "Accuracy of the logistic regression model on the validation set: 0.7184466019417476\n"
     ]
    }
   ],
   "source": [
    "# Initialize the logistic regression model\n",
    "model3 = LogisticRegression(random_state=54321, solver='liblinear')\n",
    "\n",
    "# Train the model on the training set\n",
    "model3.fit(features_train, target_train)\n",
    "\n",
    "# Predict on training and validation sets\n",
    "predict_tr3 = model3.predict(features_train)\n",
    "predict3 = model3.predict(features_valid)\n",
    "\n",
    "# Calculate accuracy scores using the correct function\n",
    "score3_train = accuracy_score(target_train, predict_tr3)\n",
    "score3_valid = accuracy_score(target_valid, predict3)\n",
    "\n",
    "# Print results\n",
    "print(\"Accuracy of the logistic regression model on the training set:\", score3_train)\n",
    "print(\"Accuracy of the logistic regression model on the validation set:\", score3_valid)"
   ]
  },
  {
   "cell_type": "code",
   "execution_count": 38,
   "metadata": {},
   "outputs": [
    {
     "name": "stdout",
     "output_type": "stream",
     "text": [
      "Accuracy of the balanced logistic regression model on the training set: 0.644455252918288\n",
      "Accuracy of the balanced logistic regression model on the validation set: 0.6330097087378641\n"
     ]
    }
   ],
   "source": [
    "# Logical Regression Model 3 with class balance\n",
    "model3b = LogisticRegression(\n",
    "    random_state=54321, solver='liblinear', class_weight='balanced'\n",
    ")\n",
    "\n",
    "# Train the model\n",
    "model3b.fit(features_train, target_train)\n",
    "\n",
    "# Predictions\n",
    "predict3b = model3b.predict(features_valid)\n",
    "predict_tr3b = model3b.predict(features_train)\n",
    "\n",
    "# Accuracy scores\n",
    "score3b_train = accuracy_score(target_train, predict_tr3b)\n",
    "score3b_valid = accuracy_score(target_valid, predict3b)\n",
    "\n",
    "# Output\n",
    "print(\"Accuracy of the balanced logistic regression model on the training set:\", score3b_train)\n",
    "print(\"Accuracy of the balanced logistic regression model on the validation set:\", score3b_valid)"
   ]
  },
  {
   "cell_type": "markdown",
   "metadata": {},
   "source": [
    "The Linear Regression Model does not clear the cutoff for accuracy and we will not proceed with this model for later analysis."
   ]
  },
  {
   "cell_type": "code",
   "execution_count": 39,
   "metadata": {},
   "outputs": [
    {
     "name": "stdout",
     "output_type": "stream",
     "text": [
      "Train score:0.912 Validation Score:0.833 Test Score:0.781\n"
     ]
    }
   ],
   "source": [
    "forest_m = RandomForestClassifier(random_state=54321, n_estimators=29, max_depth=10, class_weight='balanced')\n",
    "forest_m.fit(features_train,target_train)\n",
    "predict_val = forest_m.predict(features_valid) #predict target for validation set\n",
    "predict_ftr = forest_m.predict(features_train)#predict target for training set\n",
    "predict_ftst = forest_m.predict(features_test)#predict target for test set\n",
    "score_val = accuracy_score(target_valid, predict_val)# calculate accuracy score on validation set\n",
    "score_tr = accuracy_score(target_train, predict_ftr)# calculate accuracy score on test set\n",
    "score_tst = accuracy_score(target_test, predict_ftst)# calculate accuracy score on test set\n",
    "print(f\"Train score:{score_tr:0.3} Validation Score:{score_val:0.3} Test Score:{score_tst:0.3}\")"
   ]
  },
  {
   "cell_type": "code",
   "execution_count": 40,
   "metadata": {},
   "outputs": [
    {
     "name": "stdout",
     "output_type": "stream",
     "text": [
      "Train score:0.826 Validation Score:0.812 Test Score:0.756\n"
     ]
    }
   ],
   "source": [
    "dect_m = DecisionTreeClassifier(random_state=54321, max_depth=5, class_weight='balanced')\n",
    "dect_m.fit(features_train,target_train)\n",
    "pred_val = dect_m.predict(features_valid) #predict target for validation set\n",
    "pred_ftr = dect_m.predict(features_train)#predict target for training set\n",
    "pred_ftst = dect_m.predict(features_test)#predict target for test set\n",
    "scored_val = accuracy_score(target_valid, pred_val)# calculate accuracy score on validation set\n",
    "scored_tr = accuracy_score(target_train, pred_ftr)# calculate accuracy score on test set\n",
    "scored_tst = accuracy_score(target_test, pred_ftst)# calculate accuracy score on test set\n",
    "print(f\"Train score:{scored_tr:0.3} Validation Score:{scored_val:0.3} Test Score:{scored_tst:0.3}\")"
   ]
  },
  {
   "cell_type": "markdown",
   "metadata": {},
   "source": [
    "When we look at the test scores, Random Forrest Classifier with 29 trees and depth 10 still appears to perform the best with adjustment for class weight. Since the task was to choose the model with the highest possible accuracy, this particular model fares the best on this metric."
   ]
  },
  {
   "cell_type": "code",
   "execution_count": 41,
   "metadata": {},
   "outputs": [
    {
     "name": "stdout",
     "output_type": "stream",
     "text": [
      "Best hyperparameters: {'max_depth': 4, 'n_estimators': 279}\n"
     ]
    }
   ],
   "source": [
    "#is it possible to achieve better accuracy still with random forest?\n",
    "param_dist = {'n_estimators': randint(50,500),\n",
    "              'max_depth': randint(1,20)}\n",
    "\n",
    "# Create a random forest classifier\n",
    "rfm = RandomForestClassifier()\n",
    "\n",
    "# Use random search to find the best hyperparameters\n",
    "rand_search = RandomizedSearchCV(rfm, \n",
    "                                 param_distributions = param_dist, \n",
    "                                 n_iter=5, \n",
    "                                 cv=5)\n",
    "\n",
    "# Fit the random search object to the data\n",
    "rand_search.fit(features_train, target_train)\n",
    "\n",
    "# Create a variable for the best model\n",
    "best_rfm = rand_search.best_estimator_\n",
    "\n",
    "# Print the best hyperparameters\n",
    "print('Best hyperparameters:',  rand_search.best_params_)"
   ]
  },
  {
   "cell_type": "code",
   "execution_count": 42,
   "metadata": {},
   "outputs": [
    {
     "name": "stdout",
     "output_type": "stream",
     "text": [
      "Train score:0.908 Validation Score:0.819 Test Score:0.776\n"
     ]
    }
   ],
   "source": [
    "forest_m2 = RandomForestClassifier(random_state=54321, n_estimators=490, max_depth=9, class_weight='balanced')\n",
    "forest_m2.fit(features_train,target_train)\n",
    "predict_val2 = forest_m2.predict(features_valid) #predict target for validation set\n",
    "predict_ftr2 = forest_m2.predict(features_train)#predict target for training set\n",
    "predict_ftst2 = forest_m2.predict(features_test)#predict target for test set\n",
    "score_val2 = accuracy_score(target_valid, predict_val2)# calculate accuracy score on validation set\n",
    "score_tr2 = accuracy_score(target_train, predict_ftr2)# calculate accuracy score on test set\n",
    "score_tst2 = accuracy_score(target_test, predict_ftst2)# calculate accuracy score on test set\n",
    "print(f\"Train score:{score_tr2:0.3} Validation Score:{score_val2:0.3} Test Score:{score_tst2:0.3}\")"
   ]
  },
  {
   "cell_type": "markdown",
   "metadata": {},
   "source": [
    "This appears to be a better model and performs better than the earlier random forest model on the test data set, based on the accuracy score."
   ]
  },
  {
   "cell_type": "markdown",
   "metadata": {},
   "source": [
    "## Sanity Check\n",
    "\n",
    "Let us first examine the baseline accuracy achievable for this training set."
   ]
  },
  {
   "cell_type": "code",
   "execution_count": 43,
   "metadata": {},
   "outputs": [
    {
     "name": "stdout",
     "output_type": "stream",
     "text": [
      "Baseline Accuracy: 0.695\n"
     ]
    }
   ],
   "source": [
    "from sklearn.dummy import DummyClassifier\n",
    "dummy_clf = DummyClassifier(strategy=\"most_frequent\")\n",
    "dummy_clf.fit(features_train, target_train)\n",
    "baseline_accuracy = dummy_clf.score(features_valid, target_valid)\n",
    "print(f\"Baseline Accuracy: {baseline_accuracy:0.3}\")"
   ]
  },
  {
   "cell_type": "markdown",
   "metadata": {},
   "source": [
    "Our trained model does better than baseline of 0.695 and better than the cutt-off laid out in the project description of 0.75."
   ]
  },
  {
   "cell_type": "code",
   "execution_count": 44,
   "metadata": {},
   "outputs": [
    {
     "name": "stdout",
     "output_type": "stream",
     "text": [
      "Feature ranking:\n",
      "1. feature mb_used (0.3415448514490245)\n",
      "2. feature minutes (0.24360012076758497)\n",
      "3. feature messages (0.21184842084083422)\n",
      "4. feature calls (0.20300660694255634)\n"
     ]
    }
   ],
   "source": [
    "importances = forest_m2.feature_importances_\n",
    "indices = np.argsort(importances)[::-1]\n",
    "features = features_train.columns\n",
    "print(\"Feature ranking:\")\n",
    "for f in range(features_train.shape[1]):\n",
    "    print(f\"{f + 1}. feature {features[indices[f]]} ({importances[indices[f]]})\")"
   ]
  },
  {
   "cell_type": "markdown",
   "metadata": {},
   "source": [
    "The ranking of the features is reasonable since earlier histograms have shown that there is a difference in ultra users, who tend to be users who log more minutes in calls and more data use. This is the difference that would make sense for classification."
   ]
  },
  {
   "cell_type": "code",
   "execution_count": 45,
   "metadata": {},
   "outputs": [
    {
     "data": {
      "text/plain": [
       "<sklearn.metrics._plot.confusion_matrix.ConfusionMatrixDisplay at 0x7fc6e7efaf10>"
      ]
     },
     "execution_count": 45,
     "metadata": {},
     "output_type": "execute_result"
    },
    {
     "data": {
      "image/png": "[encoded data removed]",
      "text/plain": [
       "<Figure size 640x480 with 2 Axes>"
      ]
     },
     "metadata": {},
     "output_type": "display_data"
    }
   ],
   "source": [
    "from sklearn.metrics import confusion_matrix, ConfusionMatrixDisplay\n",
    "mod_pred = forest_m2.predict(features_test)\n",
    "cm = confusion_matrix(target_test, mod_pred)\n",
    "disp = ConfusionMatrixDisplay(confusion_matrix=cm, display_labels=forest_m2.classes_)\n",
    "disp.plot()"
   ]
  },
  {
   "cell_type": "markdown",
   "metadata": {},
   "source": [
    "Wrong predictions constitute 144 of 499 predictions which would mean an error rate of nearly 30 %. 1 in 3 predictions will be incorrect. "
   ]
  },
  {
   "cell_type": "code",
   "execution_count": 46,
   "metadata": {},
   "outputs": [
    {
     "name": "stdout",
     "output_type": "stream",
     "text": [
      "Train score:0.882 Validation Score:0.825 Test Score:0.796\n"
     ]
    }
   ],
   "source": [
    "forest_m2b = RandomForestClassifier(random_state=54321, n_estimators=490, max_depth=9)\n",
    "forest_m2b.fit(features_train,target_train)\n",
    "predict_val2b = forest_m2b.predict(features_valid) #predict target for validation set\n",
    "predict_ftr2b = forest_m2b.predict(features_train)#predict target for training set\n",
    "predict_ftst2b = forest_m2b.predict(features_test)#predict target for test set\n",
    "score_val2b = accuracy_score(target_valid, predict_val2b)# calculate accuracy score on validation set\n",
    "score_tr2b = accuracy_score(target_train, predict_ftr2b)# calculate accuracy score on test set\n",
    "score_tst2b = accuracy_score(target_test, predict_ftst2b)# calculate accuracy score on test set\n",
    "print(f\"Train score:{score_tr2b:0.3} Validation Score:{score_val2b:0.3} Test Score:{score_tst2b:0.3}\")"
   ]
  },
  {
   "cell_type": "code",
   "execution_count": 47,
   "metadata": {
    "scrolled": true
   },
   "outputs": [
    {
     "data": {
      "text/plain": [
       "<sklearn.metrics._plot.confusion_matrix.ConfusionMatrixDisplay at 0x7fc6e7e9f940>"
      ]
     },
     "execution_count": 47,
     "metadata": {},
     "output_type": "execute_result"
    },
    {
     "data": {
      "image/png": "[encoded data removed]",
      "text/plain": [
       "<Figure size 640x480 with 2 Axes>"
      ]
     },
     "metadata": {},
     "output_type": "display_data"
    }
   ],
   "source": [
    "from sklearn.metrics import confusion_matrix, ConfusionMatrixDisplay\n",
    "mod_pred_b = forest_m2b.predict(features_test)\n",
    "cm_b = confusion_matrix(target_test, mod_pred_b)\n",
    "disp_b = ConfusionMatrixDisplay(confusion_matrix=cm_b, display_labels=forest_m2b.classes_)\n",
    "disp_b.plot()"
   ]
  },
  {
   "cell_type": "markdown",
   "metadata": {},
   "source": [
    "When we remove the class balance paramters, the accuracy improves the error to 25% which keeps the accuracy of classification at 75%. Therefore the best model would be a forest of 490 trees at a max depth of 9."
   ]
  },
  {
   "cell_type": "markdown",
   "metadata": {},
   "source": [
    "## Conclusion:\n",
    "\n",
    "We have trained different models while tuning hyper parameters on the data of customers who have already migrated to the new plans. We have seen the the dataset has significantly more surf than ultra users and that the ultra users consume more data and log more calls than the surf counter parts.\n",
    "\n",
    "We trained models using the decision tree, random forest and logical regression classfication models and we tuned the depth paramater for the decision tree model and the n_est and depth parameters for random forest. We also tried to adjust for the imbalance in the data set with regard to data from users of the 2 plans by trying to tune class weight.\n",
    "\n",
    "We performed sanity checks on the final random forest model with the highest accuracy and saw that it had the minimum accuracy that can be achieved and the features ranking that the model determined also agreed with earlier analysis.\n",
    "\n",
    "However, after looking at the confusion matrix we determined it was best to leave out the class_weight hyper parameter to achieve maximum accuracy.\n",
    "However, the caveat is that this model that has trained on this data set with disproportionately more surf users may not perform as well if the distribution of data in a new database skews differently. However, it is possible, that in general, customers are always more likely to have surf subscriptions because of the particular features or cost of this subscription. However, we will need to analyze the results generated by the model cautiously given these caveats. "
   ]
  },
  {
   "cell_type": "code",
   "execution_count": null,
   "metadata": {},
   "outputs": [],
   "source": []
  }
 ],
 "metadata": {
  "ExecuteTimeLog": [
   {
    "duration": 169,
    "start_time": "2025-04-18T11:28:07.521Z"
   },
   {
    "duration": 848,
    "start_time": "2025-04-18T11:28:16.502Z"
   },
   {
    "duration": 481,
    "start_time": "2025-04-18T11:28:19.106Z"
   },
   {
    "duration": 59,
    "start_time": "2025-04-18T11:28:46.488Z"
   },
   {
    "duration": 62,
    "start_time": "2025-04-18T11:30:51.014Z"
   },
   {
    "duration": 59,
    "start_time": "2025-04-18T11:33:15.212Z"
   },
   {
    "duration": 3,
    "start_time": "2025-04-18T11:35:14.385Z"
   },
   {
    "duration": 3,
    "start_time": "2025-04-18T11:35:21.022Z"
   },
   {
    "duration": 60,
    "start_time": "2025-04-18T11:36:17.232Z"
   },
   {
    "duration": 838,
    "start_time": "2025-04-18T11:37:42.634Z"
   },
   {
    "duration": 635,
    "start_time": "2025-04-18T11:37:43.475Z"
   },
   {
    "duration": 59,
    "start_time": "2025-04-18T11:38:27.563Z"
   },
   {
    "duration": 60,
    "start_time": "2025-04-18T11:42:30.379Z"
   },
   {
    "duration": 58,
    "start_time": "2025-04-18T11:43:23.629Z"
   },
   {
    "duration": 57,
    "start_time": "2025-04-18T11:44:54.335Z"
   },
   {
    "duration": 4,
    "start_time": "2025-04-18T11:47:38.021Z"
   },
   {
    "duration": 5,
    "start_time": "2025-04-18T12:22:45.656Z"
   },
   {
    "duration": 64,
    "start_time": "2025-04-18T12:23:53.496Z"
   },
   {
    "duration": 30,
    "start_time": "2025-04-18T12:24:09.622Z"
   },
   {
    "duration": 3,
    "start_time": "2025-04-18T12:25:46.829Z"
   },
   {
    "duration": 1957,
    "start_time": "2025-04-18T12:27:21.775Z"
   },
   {
    "duration": 199,
    "start_time": "2025-04-18T12:29:54.622Z"
   },
   {
    "duration": 4,
    "start_time": "2025-04-18T12:30:06.878Z"
   },
   {
    "duration": 113,
    "start_time": "2025-04-18T12:30:09.533Z"
   },
   {
    "duration": 45,
    "start_time": "2025-04-18T12:30:12.382Z"
   },
   {
    "duration": 79,
    "start_time": "2025-04-18T12:30:57.243Z"
   },
   {
    "duration": 5,
    "start_time": "2025-04-18T12:40:37.371Z"
   },
   {
    "duration": 78,
    "start_time": "2025-04-18T12:40:47.404Z"
   },
   {
    "duration": 170,
    "start_time": "2025-04-18T13:04:02.588Z"
   },
   {
    "duration": 10,
    "start_time": "2025-04-18T13:04:27.879Z"
   },
   {
    "duration": 10,
    "start_time": "2025-04-18T13:04:40.466Z"
   },
   {
    "duration": 263,
    "start_time": "2025-04-18T13:05:56.782Z"
   },
   {
    "duration": 24,
    "start_time": "2025-04-18T13:13:40.722Z"
   },
   {
    "duration": 15,
    "start_time": "2025-04-18T13:14:01.428Z"
   },
   {
    "duration": 16,
    "start_time": "2025-04-18T13:14:11.627Z"
   },
   {
    "duration": 16,
    "start_time": "2025-04-18T13:14:21.945Z"
   },
   {
    "duration": 14,
    "start_time": "2025-04-18T13:14:34.686Z"
   },
   {
    "duration": 21,
    "start_time": "2025-04-18T13:15:53.615Z"
   },
   {
    "duration": 24,
    "start_time": "2025-04-18T13:16:09.899Z"
   },
   {
    "duration": 276,
    "start_time": "2025-04-18T13:16:49.357Z"
   },
   {
    "duration": 309,
    "start_time": "2025-04-18T13:17:03.832Z"
   },
   {
    "duration": 309,
    "start_time": "2025-04-18T13:25:03.935Z"
   },
   {
    "duration": 413,
    "start_time": "2025-04-18T13:26:14.219Z"
   },
   {
    "duration": 623,
    "start_time": "2025-04-18T13:29:28.854Z"
   },
   {
    "duration": 493,
    "start_time": "2025-04-18T13:31:40.610Z"
   },
   {
    "duration": 408,
    "start_time": "2025-04-18T13:31:59.970Z"
   },
   {
    "duration": 309,
    "start_time": "2025-04-18T13:36:03.317Z"
   },
   {
    "duration": 552,
    "start_time": "2025-04-18T13:37:08.147Z"
   },
   {
    "duration": 976,
    "start_time": "2025-04-18T13:37:53.436Z"
   },
   {
    "duration": 781,
    "start_time": "2025-04-18T13:38:10.367Z"
   },
   {
    "duration": 948,
    "start_time": "2025-04-18T13:44:47.835Z"
   },
   {
    "duration": 968,
    "start_time": "2025-04-18T13:48:07.013Z"
   },
   {
    "duration": 873,
    "start_time": "2025-04-18T13:48:40.075Z"
   },
   {
    "duration": 961,
    "start_time": "2025-04-18T13:50:49.643Z"
   },
   {
    "duration": 960,
    "start_time": "2025-04-18T13:51:09.001Z"
   },
   {
    "duration": 1267,
    "start_time": "2025-04-18T14:00:53.229Z"
   },
   {
    "duration": 952,
    "start_time": "2025-04-18T14:01:20.131Z"
   },
   {
    "duration": 1417,
    "start_time": "2025-04-18T14:13:18.466Z"
   },
   {
    "duration": 1299,
    "start_time": "2025-04-18T14:19:50.455Z"
   },
   {
    "duration": 1108,
    "start_time": "2025-04-18T14:20:19.999Z"
   },
   {
    "duration": 938,
    "start_time": "2025-04-18T14:20:36.632Z"
   },
   {
    "duration": 20,
    "start_time": "2025-04-18T14:39:25.298Z"
   },
   {
    "duration": 8,
    "start_time": "2025-04-18T14:39:34.985Z"
   },
   {
    "duration": 21,
    "start_time": "2025-04-18T14:39:38.223Z"
   },
   {
    "duration": 30,
    "start_time": "2025-04-18T14:39:49.231Z"
   },
   {
    "duration": 30,
    "start_time": "2025-04-18T14:41:52.208Z"
   },
   {
    "duration": 32,
    "start_time": "2025-04-18T14:44:23.610Z"
   },
   {
    "duration": 31,
    "start_time": "2025-04-18T14:46:14.933Z"
   },
   {
    "duration": 25,
    "start_time": "2025-04-18T14:53:24.215Z"
   },
   {
    "duration": 219,
    "start_time": "2025-04-18T14:53:32.368Z"
   },
   {
    "duration": 211,
    "start_time": "2025-04-18T14:54:30.727Z"
   },
   {
    "duration": 134,
    "start_time": "2025-04-18T14:57:04.837Z"
   },
   {
    "duration": 135,
    "start_time": "2025-04-18T14:57:26.256Z"
   },
   {
    "duration": 9562,
    "start_time": "2025-04-18T14:57:42.813Z"
   },
   {
    "duration": 441,
    "start_time": "2025-04-18T15:13:11.572Z"
   },
   {
    "duration": 453,
    "start_time": "2025-04-18T15:13:27.635Z"
   },
   {
    "duration": 454,
    "start_time": "2025-04-18T15:15:31.036Z"
   },
   {
    "duration": 13,
    "start_time": "2025-04-18T15:16:47.520Z"
   },
   {
    "duration": 14,
    "start_time": "2025-04-18T15:17:18.310Z"
   },
   {
    "duration": 15,
    "start_time": "2025-04-18T15:17:39.468Z"
   },
   {
    "duration": 2708,
    "start_time": "2025-04-20T18:43:43.870Z"
   },
   {
    "duration": 29,
    "start_time": "2025-04-20T18:43:46.581Z"
   },
   {
    "duration": 85,
    "start_time": "2025-04-20T18:43:46.612Z"
   },
   {
    "duration": 346,
    "start_time": "2025-04-20T18:43:46.699Z"
   },
   {
    "duration": 982,
    "start_time": "2025-04-20T18:43:47.047Z"
   },
   {
    "duration": 7,
    "start_time": "2025-04-20T18:43:48.031Z"
   },
   {
    "duration": 6,
    "start_time": "2025-04-20T18:43:48.040Z"
   },
   {
    "duration": 0,
    "start_time": "2025-04-20T18:43:48.048Z"
   },
   {
    "duration": 0,
    "start_time": "2025-04-20T18:43:48.049Z"
   },
   {
    "duration": 0,
    "start_time": "2025-04-20T18:43:48.051Z"
   },
   {
    "duration": 0,
    "start_time": "2025-04-20T18:43:48.052Z"
   },
   {
    "duration": 0,
    "start_time": "2025-04-20T18:43:48.053Z"
   },
   {
    "duration": 405,
    "start_time": "2025-04-20T18:44:05.275Z"
   },
   {
    "duration": 37,
    "start_time": "2025-04-20T18:44:45.491Z"
   },
   {
    "duration": 47,
    "start_time": "2025-04-20T18:48:38.311Z"
   },
   {
    "duration": 492,
    "start_time": "2025-04-20T18:53:44.110Z"
   },
   {
    "duration": 502,
    "start_time": "2025-04-20T18:53:53.253Z"
   },
   {
    "duration": 17,
    "start_time": "2025-04-20T18:54:02.874Z"
   },
   {
    "duration": 15,
    "start_time": "2025-04-20T18:54:07.752Z"
   },
   {
    "duration": 529,
    "start_time": "2025-04-20T18:58:41.641Z"
   },
   {
    "duration": 542,
    "start_time": "2025-04-20T19:02:13.914Z"
   },
   {
    "duration": 542,
    "start_time": "2025-04-20T19:25:40.663Z"
   },
   {
    "duration": 565,
    "start_time": "2025-04-20T19:26:16.400Z"
   },
   {
    "duration": 529,
    "start_time": "2025-04-20T19:26:35.733Z"
   },
   {
    "duration": 78440,
    "start_time": "2025-04-20T19:30:39.064Z"
   },
   {
    "duration": 73517,
    "start_time": "2025-04-20T19:35:11.096Z"
   },
   {
    "duration": 75439,
    "start_time": "2025-04-20T19:39:20.339Z"
   },
   {
    "duration": 30,
    "start_time": "2025-04-20T19:44:18.413Z"
   },
   {
    "duration": 122,
    "start_time": "2025-04-20T19:52:10.597Z"
   },
   {
    "duration": 130,
    "start_time": "2025-04-20T19:52:48.398Z"
   },
   {
    "duration": 24,
    "start_time": "2025-04-20T19:55:05.715Z"
   },
   {
    "duration": 15,
    "start_time": "2025-04-20T19:55:37.700Z"
   },
   {
    "duration": 75344,
    "start_time": "2025-04-20T19:59:47.863Z"
   },
   {
    "duration": 73754,
    "start_time": "2025-04-20T20:01:27.748Z"
   },
   {
    "duration": 180,
    "start_time": "2025-04-20T20:10:30.402Z"
   },
   {
    "duration": 15,
    "start_time": "2025-04-20T20:14:03.538Z"
   },
   {
    "duration": 22,
    "start_time": "2025-04-20T20:22:36.607Z"
   },
   {
    "duration": 6,
    "start_time": "2025-04-20T20:22:58.395Z"
   },
   {
    "duration": 14,
    "start_time": "2025-04-20T20:26:58.671Z"
   },
   {
    "duration": 15,
    "start_time": "2025-04-20T20:29:41.961Z"
   },
   {
    "duration": 3,
    "start_time": "2025-04-20T20:29:51.561Z"
   },
   {
    "duration": 17,
    "start_time": "2025-04-20T20:30:03.923Z"
   },
   {
    "duration": 3,
    "start_time": "2025-04-20T20:31:12.913Z"
   },
   {
    "duration": 9571,
    "start_time": "2025-04-20T20:31:20.978Z"
   },
   {
    "duration": 223,
    "start_time": "2025-04-20T20:33:33.730Z"
   },
   {
    "duration": 4,
    "start_time": "2025-04-20T20:37:44.829Z"
   },
   {
    "duration": 10,
    "start_time": "2025-04-20T20:40:12.059Z"
   },
   {
    "duration": 957,
    "start_time": "2025-04-20T20:41:59.688Z"
   },
   {
    "duration": 936,
    "start_time": "2025-04-20T20:42:53.385Z"
   },
   {
    "duration": 1068,
    "start_time": "2025-04-20T20:43:25.787Z"
   },
   {
    "duration": 1078,
    "start_time": "2025-04-20T20:43:39.313Z"
   },
   {
    "duration": 27,
    "start_time": "2025-04-20T20:43:40.393Z"
   },
   {
    "duration": 89,
    "start_time": "2025-04-20T20:43:40.421Z"
   },
   {
    "duration": 312,
    "start_time": "2025-04-20T20:43:40.513Z"
   },
   {
    "duration": 963,
    "start_time": "2025-04-20T20:43:40.827Z"
   },
   {
    "duration": 7,
    "start_time": "2025-04-20T20:43:41.792Z"
   },
   {
    "duration": 38,
    "start_time": "2025-04-20T20:43:41.800Z"
   },
   {
    "duration": 32,
    "start_time": "2025-04-20T20:43:41.840Z"
   },
   {
    "duration": 69731,
    "start_time": "2025-04-20T20:43:41.873Z"
   },
   {
    "duration": 69186,
    "start_time": "2025-04-20T20:44:51.611Z"
   },
   {
    "duration": 19,
    "start_time": "2025-04-20T20:46:00.799Z"
   },
   {
    "duration": 11,
    "start_time": "2025-04-20T20:46:00.820Z"
   },
   {
    "duration": 167,
    "start_time": "2025-04-20T20:46:00.833Z"
   },
   {
    "duration": 18,
    "start_time": "2025-04-20T20:46:01.002Z"
   },
   {
    "duration": 15318,
    "start_time": "2025-04-20T20:46:01.022Z"
   },
   {
    "duration": 235,
    "start_time": "2025-04-20T20:46:16.341Z"
   },
   {
    "duration": 5,
    "start_time": "2025-04-20T20:46:16.577Z"
   },
   {
    "duration": 8,
    "start_time": "2025-04-20T20:46:16.583Z"
   },
   {
    "duration": 91,
    "start_time": "2025-04-20T20:48:13.418Z"
   },
   {
    "duration": 1310,
    "start_time": "2025-04-20T20:49:27.113Z"
   },
   {
    "duration": 231,
    "start_time": "2025-04-20T20:55:50.248Z"
   },
   {
    "duration": 1291,
    "start_time": "2025-04-20T21:01:55.937Z"
   },
   {
    "duration": 158,
    "start_time": "2025-04-20T21:02:52.179Z"
   },
   {
    "duration": 2809,
    "start_time": "2025-04-20T21:35:23.733Z"
   },
   {
    "duration": 528,
    "start_time": "2025-04-20T21:35:26.545Z"
   },
   {
    "duration": 0,
    "start_time": "2025-04-20T21:35:27.075Z"
   },
   {
    "duration": 0,
    "start_time": "2025-04-20T21:35:27.079Z"
   },
   {
    "duration": 0,
    "start_time": "2025-04-20T21:35:27.081Z"
   },
   {
    "duration": 0,
    "start_time": "2025-04-20T21:35:27.082Z"
   },
   {
    "duration": 0,
    "start_time": "2025-04-20T21:35:27.084Z"
   },
   {
    "duration": 0,
    "start_time": "2025-04-20T21:35:27.085Z"
   },
   {
    "duration": 0,
    "start_time": "2025-04-20T21:35:27.087Z"
   },
   {
    "duration": 1,
    "start_time": "2025-04-20T21:35:27.088Z"
   },
   {
    "duration": 0,
    "start_time": "2025-04-20T21:35:27.090Z"
   },
   {
    "duration": 0,
    "start_time": "2025-04-20T21:35:27.111Z"
   },
   {
    "duration": 0,
    "start_time": "2025-04-20T21:35:27.113Z"
   },
   {
    "duration": 0,
    "start_time": "2025-04-20T21:35:27.114Z"
   },
   {
    "duration": 0,
    "start_time": "2025-04-20T21:35:27.116Z"
   },
   {
    "duration": 0,
    "start_time": "2025-04-20T21:35:27.117Z"
   },
   {
    "duration": 0,
    "start_time": "2025-04-20T21:35:27.119Z"
   },
   {
    "duration": 0,
    "start_time": "2025-04-20T21:35:27.120Z"
   },
   {
    "duration": 0,
    "start_time": "2025-04-20T21:35:27.122Z"
   },
   {
    "duration": 0,
    "start_time": "2025-04-20T21:35:27.123Z"
   },
   {
    "duration": 0,
    "start_time": "2025-04-20T21:35:27.125Z"
   },
   {
    "duration": 163,
    "start_time": "2025-04-20T22:19:38.906Z"
   },
   {
    "duration": 2757,
    "start_time": "2025-04-20T22:19:46.466Z"
   },
   {
    "duration": 28,
    "start_time": "2025-04-20T22:19:49.657Z"
   },
   {
    "duration": 4,
    "start_time": "2025-04-20T22:21:25.185Z"
   },
   {
    "duration": 17,
    "start_time": "2025-04-20T22:21:27.570Z"
   },
   {
    "duration": 2684,
    "start_time": "2025-04-20T22:44:08.890Z"
   },
   {
    "duration": 28,
    "start_time": "2025-04-20T22:44:11.577Z"
   },
   {
    "duration": 150,
    "start_time": "2025-04-20T22:44:11.606Z"
   },
   {
    "duration": 282,
    "start_time": "2025-04-20T22:44:11.758Z"
   },
   {
    "duration": 1031,
    "start_time": "2025-04-20T22:46:55.540Z"
   },
   {
    "duration": 7,
    "start_time": "2025-04-20T22:46:56.573Z"
   },
   {
    "duration": 42,
    "start_time": "2025-04-20T22:46:56.581Z"
   },
   {
    "duration": 37,
    "start_time": "2025-04-20T22:46:56.625Z"
   },
   {
    "duration": 3,
    "start_time": "2025-04-20T22:48:14.893Z"
   },
   {
    "duration": 19,
    "start_time": "2025-04-20T22:48:14.899Z"
   },
   {
    "duration": 75,
    "start_time": "2025-04-20T22:48:14.920Z"
   },
   {
    "duration": 324,
    "start_time": "2025-04-20T22:48:14.997Z"
   },
   {
    "duration": 954,
    "start_time": "2025-04-20T22:48:15.325Z"
   },
   {
    "duration": 7,
    "start_time": "2025-04-20T22:48:16.280Z"
   },
   {
    "duration": 42,
    "start_time": "2025-04-20T22:48:16.289Z"
   },
   {
    "duration": 31,
    "start_time": "2025-04-20T22:48:16.332Z"
   },
   {
    "duration": 69723,
    "start_time": "2025-04-20T22:48:16.365Z"
   },
   {
    "duration": 69734,
    "start_time": "2025-04-20T22:49:26.090Z"
   },
   {
    "duration": 13,
    "start_time": "2025-04-20T22:50:35.826Z"
   },
   {
    "duration": 12,
    "start_time": "2025-04-20T22:50:35.841Z"
   },
   {
    "duration": 113,
    "start_time": "2025-04-20T22:50:35.855Z"
   },
   {
    "duration": 12,
    "start_time": "2025-04-20T22:50:35.971Z"
   },
   {
    "duration": 10454,
    "start_time": "2025-04-20T22:50:35.985Z"
   },
   {
    "duration": 1341,
    "start_time": "2025-04-20T22:50:46.440Z"
   },
   {
    "duration": 5,
    "start_time": "2025-04-20T22:50:47.783Z"
   },
   {
    "duration": 37,
    "start_time": "2025-04-20T22:50:47.789Z"
   },
   {
    "duration": 167,
    "start_time": "2025-04-20T22:50:47.828Z"
   },
   {
    "duration": 1320,
    "start_time": "2025-04-20T22:50:47.997Z"
   },
   {
    "duration": 167,
    "start_time": "2025-04-20T22:50:49.319Z"
   }
  ],
  "kernelspec": {
   "display_name": "My Environment",
   "language": "python",
   "name": "myenv"
  },
  "language_info": {
   "codemirror_mode": {
    "name": "ipython",
    "version": 3
   },
   "file_extension": ".py",
   "mimetype": "text/x-python",
   "name": "python",
   "nbconvert_exporter": "python",
   "pygments_lexer": "ipython3",
   "version": "3.9.19"
  },
  "toc": {
   "base_numbering": 1,
   "nav_menu": {},
   "number_sections": true,
   "sideBar": true,
   "skip_h1_title": true,
   "title_cell": "Table of Contents",
   "title_sidebar": "Contents",
   "toc_cell": false,
   "toc_position": {},
   "toc_section_display": true,
   "toc_window_display": false
  }
 },
 "nbformat": 4,
 "nbformat_minor": 4
}
